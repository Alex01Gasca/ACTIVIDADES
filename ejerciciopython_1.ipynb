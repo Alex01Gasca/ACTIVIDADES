{
  "nbformat": 4,
  "nbformat_minor": 0,
  "metadata": {
    "colab": {
      "provenance": [],
      "authorship_tag": "ABX9TyMeKwjy9dkTu9z06LsTBZOj",
      "include_colab_link": true
    },
    "kernelspec": {
      "name": "python3",
      "display_name": "Python 3"
    },
    "language_info": {
      "name": "python"
    }
  },
  "cells": [
    {
      "cell_type": "markdown",
      "metadata": {
        "id": "view-in-github",
        "colab_type": "text"
      },
      "source": [
        "<a href=\"https://colab.research.google.com/github/Alex01Gasca/ACTIVIDADES/blob/main/Untitled0.ipynb\" target=\"_parent\"><img src=\"https://colab.research.google.com/assets/colab-badge.svg\" alt=\"Open In Colab\"/></a>"
      ]
    },
    {
      "cell_type": "code",
      "execution_count": null,
      "metadata": {
        "id": "CymhQ46Pw6O5"
      },
      "outputs": [],
      "source": [
        "EJERCICIOS EN PYTHON ALEJANDRO DE JESUS GASCA 2077366 007"
      ]
    },
    {
      "cell_type": "code",
      "source": [
        "# Solicitar al usuario ingresar un número\n",
        "numero = int(input(\"Por favor, ingresa un número: \"))\n",
        "\n",
        "# Comprobar si el número es par o impar\n",
        "if numero % 2 == 0:\n",
        "    print(f\"{numero} es un número par.\")\n",
        "else:\n",
        "    print(f\"{numero} es un número impar.\")"
      ],
      "metadata": {
        "colab": {
          "base_uri": "https://localhost:8080/"
        },
        "id": "or-QYKPvx4Aq",
        "outputId": "65be8eea-b3d0-448c-ea5e-f61b5829a9b1"
      },
      "execution_count": 1,
      "outputs": [
        {
          "output_type": "stream",
          "name": "stdout",
          "text": [
            "Por favor, ingresa un número: 1234\n",
            "1234 es un número par.\n"
          ]
        }
      ]
    },
    {
      "cell_type": "code",
      "source": [
        "# Solicitar al usuario ingresar números separados por comas y convertirlos en una lista\n",
        "entrada_usuario = input(\"Ingresa una lista de números separados por comas: \")\n",
        "numeros = [int(numero) for numero in entrada_usuario.split(',')]\n",
        "\n",
        "# Mostrar la lista en orden inverso\n",
        "numeros_inversos = numeros[::-1]\n",
        "print(\"La lista en orden inverso es:\", numeros_inversos)"
      ],
      "metadata": {
        "colab": {
          "base_uri": "https://localhost:8080/"
        },
        "id": "QJ8ECZZKyBUr",
        "outputId": "c3ad61ac-d908-45cd-fbd3-ef37d7bebef3"
      },
      "execution_count": 2,
      "outputs": [
        {
          "output_type": "stream",
          "name": "stdout",
          "text": [
            "Ingresa una lista de números separados por comas: 2,7\n",
            "La lista en orden inverso es: [7, 2]\n"
          ]
        }
      ]
    },
    {
      "cell_type": "code",
      "source": [
        "import random\n",
        "\n",
        "# Generar un número aleatorio entre 1 y 100\n",
        "numero_objetivo = random.randint(1, 100)\n",
        "\n",
        "# Inicializar un contador de intentos\n",
        "intentos = 0\n",
        "\n",
        "# Comenzar el juego\n",
        "print(\"¡Bienvenido al juego de adivinar el número!\")\n",
        "\n",
        "while True:\n",
        "    # Solicitar al usuario que adivine el número\n",
        "    intento = int(input(\"Adivina el número (entre 1 y 100): \"))\n",
        "\n",
        "    # Incrementar el contador de intentos\n",
        "    intentos += 1\n",
        "\n",
        "    # Comprobar si el intento es correcto\n",
        "    if intento == numero_objetivo:\n",
        "        print(f\"¡Felicidades! Has adivinado el número {numero_objetivo} en {intentos} intentos.\")\n",
        "        break\n",
        "    elif intento < numero_objetivo:\n",
        "        print(\"El número objetivo es mayor. Inténtalo de nuevo.\")\n",
        "    else:\n",
        "        print(\"El número objetivo es menor. Inténtalo de nuevo.\")"
      ],
      "metadata": {
        "colab": {
          "base_uri": "https://localhost:8080/"
        },
        "id": "asg8MeMjzkbM",
        "outputId": "2e9665ee-6b00-4598-abb7-6965822c681d"
      },
      "execution_count": 8,
      "outputs": [
        {
          "output_type": "stream",
          "name": "stdout",
          "text": [
            "¡Bienvenido al juego de adivinar el número!\n",
            "Adivina el número (entre 1 y 100): 70\n",
            "El número objetivo es mayor. Inténtalo de nuevo.\n",
            "Adivina el número (entre 1 y 100): 80\n",
            "El número objetivo es mayor. Inténtalo de nuevo.\n",
            "Adivina el número (entre 1 y 100): 90\n",
            "El número objetivo es mayor. Inténtalo de nuevo.\n",
            "Adivina el número (entre 1 y 100): 99\n",
            "El número objetivo es menor. Inténtalo de nuevo.\n",
            "Adivina el número (entre 1 y 100): 100\n",
            "El número objetivo es menor. Inténtalo de nuevo.\n",
            "Adivina el número (entre 1 y 100): 98\n",
            "¡Felicidades! Has adivinado el número 98 en 6 intentos.\n"
          ]
        }
      ]
    },
    {
      "cell_type": "code",
      "source": [
        "# Función para verificar si un número es primo\n",
        "def es_primo(numero):\n",
        "    if numero <= 1:\n",
        "        return False\n",
        "    if numero <= 3:\n",
        "        return True\n",
        "    if numero % 2 == 0 or numero % 3 == 0:\n",
        "        return False\n",
        "    i = 5\n",
        "    while i * i <= numero:\n",
        "        if numero % i == 0 or numero % (i + 2) == 0:\n",
        "            return False\n",
        "        i += 6\n",
        "    return True\n",
        "\n",
        "# Solicitar al usuario el rango de números\n",
        "inicio = int(input(\"Ingresa el número inicial del rango: \"))\n",
        "fin = int(input(\"Ingresa el número final del rango: \"))\n",
        "\n",
        "# Mostrar los números primos dentro del rango\n",
        "print(f\"Números primos en el rango de {inicio} a {fin}:\")\n",
        "for numero in range(inicio, fin + 1):\n",
        "    if es_primo(numero):\n",
        "        print(numero)"
      ],
      "metadata": {
        "colab": {
          "base_uri": "https://localhost:8080/"
        },
        "id": "tl_LLCMVzsnq",
        "outputId": "45a8e27e-c440-4f21-d336-6f8c15907e7f"
      },
      "execution_count": 7,
      "outputs": [
        {
          "output_type": "stream",
          "name": "stdout",
          "text": [
            "Ingresa el número inicial del rango: 1\n",
            "Ingresa el número final del rango: 30\n",
            "Números primos en el rango de 1 a 30:\n",
            "2\n",
            "3\n",
            "5\n",
            "7\n",
            "11\n",
            "13\n",
            "17\n",
            "19\n",
            "23\n",
            "29\n"
          ]
        }
      ]
    }
  ]
}
